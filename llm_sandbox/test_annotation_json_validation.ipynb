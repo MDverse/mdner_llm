{
 "cells": [
  {
   "cell_type": "markdown",
   "id": "8de66c95",
   "metadata": {},
   "source": [
    "# "
   ]
  },
  {
   "cell_type": "markdown",
   "id": "1b0eca9c",
   "metadata": {},
   "source": [
    "# Test the LLM annotation with PyDantic and Instructor  ☑\n",
    "\n",
    "### ⚠️ Background  \n",
    "Previous attempts used **XML tags** (e.g., `<MOL>POPC</MOL>`) to annotate entities in Molecular Dynamics (MD) texts.  \n",
    "However, this approach had several issues:  \n",
    "- LLMs sometimes **modified the input text**  \n",
    "- The **XML structure** was often **broken** (missing tags)  \n",
    "- Parsing results were **fragile and inconsistent**\n",
    "\n",
    "\n",
    "### 🎯 Objectives  \n",
    "- 🧾 **Enforce structured JSON** outputs instead of XML  \n",
    "- 🔍 **Control schema** using:\n",
    "  - **Pydantic** → defines the expected JSON structure  \n",
    "  - **Instructor** → forces the LLM to comply with that structure\n",
    "- ✅ **Validate** the content of the output against the original text (to reduce hallucinated entities)\n",
    "- 📊 **Compare the performance** of small open-weight models (e.g., Llama-8B) against larger proprietary models (e.g., OpenAI’s GPT-4o-mini)\n",
    "__________"
   ]
  },
  {
   "cell_type": "markdown",
   "id": "be57520f",
   "metadata": {},
   "source": [
    "## Package version"
   ]
  },
  {
   "cell_type": "code",
   "execution_count": 1,
   "id": "5e75c323",
   "metadata": {},
   "outputs": [
    {
     "name": "stdout",
     "output_type": "stream",
     "text": [
      "Last updated: 2025-10-23T16:11:45.215184+02:00\n",
      "\n",
      "Python implementation: CPython\n",
      "Python version       : 3.13.7\n",
      "IPython version      : 8.13.2\n",
      "\n",
      "Compiler    : GCC 14.3.0\n",
      "OS          : Linux\n",
      "Release     : 6.14.0-32-generic\n",
      "Machine     : x86_64\n",
      "Processor   : x86_64\n",
      "CPU cores   : 32\n",
      "Architecture: 64bit\n",
      "\n",
      "numpy     : 2.3.1\n",
      "pandas    : 2.3.1\n",
      "matplotlib: 3.10.3\n",
      "pydantic  : 2.11.7\n",
      "openai    : 1.93.2\n",
      "groq      : 0.29.0\n",
      "instructor: 1.11.3\n",
      "\n"
     ]
    }
   ],
   "source": [
    "%load_ext watermark\n",
    "%watermark\n",
    "%watermark --packages numpy,pandas,matplotlib,pydantic,openai,groq,instructor"
   ]
  },
  {
   "cell_type": "markdown",
   "id": "63878c74",
   "metadata": {},
   "source": [
    "______"
   ]
  },
  {
   "cell_type": "code",
   "execution_count": 41,
   "id": "c1100f49",
   "metadata": {},
   "outputs": [
    {
     "name": "stdout",
     "output_type": "stream",
     "text": [
      "The autoreload extension is already loaded. To reload it, use:\n",
      "  %reload_ext autoreload\n"
     ]
    }
   ],
   "source": [
    "\n",
    "# Import libraries\n",
    "import os\n",
    "from tqdm import tqdm\n",
    "import textwrap\n",
    "\n",
    "import instructor\n",
    "from groq import Groq\n",
    "from dotenv import load_dotenv\n",
    "\n",
    "# To auto-reload modules when they are changed\n",
    "%load_ext autoreload  \n",
    "%autoreload 2\n",
    "# Import utility constants\n",
    "from utils import PROMPT\n",
    "# Import utility functions\n",
    "from utils import annotate, visualize_entities, validate_annotation_output_format, compare_annotation_validation, report_hallucinated_entities, find_hallucinated_entities"
   ]
  },
  {
   "cell_type": "code",
   "execution_count": 4,
   "id": "d39a3b3e",
   "metadata": {},
   "outputs": [],
   "source": [
    "# Constants\n",
    "MODEL_GROQ = \"llama-3.1-8b-instant\"\n",
    "MODEL_OPENAI = \"gpt-4o-mini-2024-07-18\"\n",
    "MODEL_OPENROUTER = \"meta-llama/llama-3.1-8b-instruct\"\n",
    "\n",
    "EX_MD_TEXTS = [\n",
    "    \"The protein was simulated using AMBER with the TIP3P water model.\",\n",
    "    \"Visualization was done with VMD, and the MD run used GROMOS96 parameters.\",\n",
    "    \"A POPC:CHOL membrane was built using CHARMM-GUI.\",\n",
    "    \"\"\"Improved Coarse-Grained Modeling of Cholesterol-Containing Lipid Bilayers\n",
    "Cholesterol trafficking, which is an essential function in mammalian cells, is intimately connected to molecular-scale interactions through cholesterol modulation of membrane structure and dynamics and interaction with membrane receptors. Since these effects of cholesterol occur on micro- to millisecond time scales, it is essential to develop accurate coarse-grained simulation models that can reach these time scales. Cholesterol has been shown experimentally to thicken the membrane and increase phospholipid tail order between 0 and 40% cholesterol, above which these effects plateau or slightly decrease. Here, we showed that the published MARTINI coarse-grained force-field for phospholipid (POPC) and cholesterol fails to capture these effects. Using reference atomistic simulations, we systematically modified POPC and cholesterol bonded parameters in MARTINI to improve its performance. We showed that the corrections to pseudobond angles between glycerol and the lipid tails and around the oleoyl double bond particle (the angle-corrected model ) slightly improves the agreement of MARTINI with experimentally measured thermal, elastic, and dynamic properties of POPC membranes. The angle-corrected model improves prediction of the thickening and ordering effects up to 40% cholesterol but overestimates these effects at higher cholesterol concentration. In accordance with prior work that showed the cholesterol rough face methyl groups are important for limiting cholesterol self-association, we revised the coarse-grained representation of these methyl groups to better match cholesterol-cholesterol radial distribution functions from atomistic simulations. In addition, by using a finer-grained representation of the branched cholesterol tail than MARTINI, we improved predictions of lipid tail order and bilayer thickness across a wide range of concentrations. Finally, transferability testing shows that a model incorporating our revised parameters into DOPC outperforms other CG models in a DOPC/cholesterol simulation series, which further argues for its efficacy and generalizability. These results argue for the importance of systematic optimization for coarse-graining biologically important molecules like cholesterol with complicated molecular structure.\n",
    "\"\"\"\n",
    "]"
   ]
  },
  {
   "cell_type": "code",
   "execution_count": 5,
   "id": "8b7222b1",
   "metadata": {},
   "outputs": [],
   "source": [
    "# Configs\n",
    "# Load environment variables from .env file\n",
    "load_dotenv()\n",
    "\n",
    "# Initialize the Groq client (https://python.useinstructor.com/integrations/groq/)\n",
    "client_groq = Groq(api_key=os.getenv(\"GROQ_API_KEY\"))\n",
    "client_groq = instructor.from_provider(f\"groq/{MODEL_GROQ}\", mode=instructor.Mode.JSON)\n",
    "\n",
    "# Initialize the OpenAI client\n",
    "client_openai = instructor.from_provider(f\"openai/{MODEL_OPENAI}\", mode=instructor.Mode.JSON)\n",
    "\n",
    "# Initialize the OpenRouter client (https://python.useinstructor.com/integrations/openrouter/)\n",
    "client_openrouter = instructor.from_provider(f\"openrouter/{MODEL_OPENROUTER}\", mode=instructor.Mode.JSON)"
   ]
  },
  {
   "cell_type": "markdown",
   "id": "7a4c4647",
   "metadata": {},
   "source": [
    "_____________"
   ]
  },
  {
   "cell_type": "markdown",
   "id": "cf7a527e",
   "metadata": {},
   "source": [
    "# I. Simple example"
   ]
  },
  {
   "cell_type": "markdown",
   "id": "77b9f597",
   "metadata": {},
   "source": [
    "## I.1 Without validation 🚫\n",
    "\n",
    "The LLM output is returned **as-is**, without enforcing a schema.  \n",
    "This helps check if the model produces **valid JSON** and adheres to the expected structure."
   ]
  },
  {
   "cell_type": "code",
   "execution_count": 6,
   "id": "b0a85d95",
   "metadata": {},
   "outputs": [
    {
     "name": "stdout",
     "output_type": "stream",
     "text": [
      "================================================================================\n",
      "📝 INPUT TEXT \n",
      "================================================================================\n",
      "The protein was simulated using AMBER with the TIP3P water model.\n",
      "\n",
      "\n",
      "================================================================================\n",
      "🤖 MODEL RESPONSE (meta-llama/llama-3.1-8b-instruct)\n",
      "================================================================================\n",
      "Here is the extracted entity list in the required JSON format:\n",
      "\n",
      "{\"entities\": [{\"label\": \"SOFTNAME\", \"text\": \"AMBER\"}, {\"label\": \"FFM\", \"text\": \"TIP3P\"}]}\n",
      "\n",
      "\n",
      "Invalid annotation format ❌\n"
     ]
    }
   ],
   "source": [
    "text_to_annotate = EX_MD_TEXTS[0]\n",
    "response = annotate(text_to_annotate, MODEL_OPENROUTER, client=client_openrouter, validation=False)\n",
    "\n",
    "print(\"=\" * 80)\n",
    "print(\"📝 INPUT TEXT \")\n",
    "print(\"=\" * 80)\n",
    "print(text_to_annotate)\n",
    "print(\"\\n\")\n",
    "\n",
    "print(\"=\" * 80)\n",
    "print(f\"🤖 MODEL RESPONSE ({MODEL_OPENROUTER})\")\n",
    "print(\"=\" * 80)\n",
    "print(response.choices[0].message.content)\n",
    "print(\"\\n\")\n",
    "\n",
    "\n",
    "if validate_annotation_output_format(response):\n",
    "    print(\"Valid annotation format ✅\")\n",
    "else:\n",
    "    print(\"Invalid annotation format ❌\")"
   ]
  },
  {
   "cell_type": "markdown",
   "id": "1972f164",
   "metadata": {},
   "source": [
    " ➡️ In this case, some of the response is valid, but the model adds \"***Here is the extracted entity list in the required JSON format:***\" instead of strictly following the instruction to output JSON."
   ]
  },
  {
   "cell_type": "markdown",
   "id": "63e3dd20",
   "metadata": {},
   "source": [
    "## 2. With validation ✅"
   ]
  },
  {
   "cell_type": "markdown",
   "id": "4aad2a2e",
   "metadata": {},
   "source": [
    "Now, we test it with pydantic and instructor !"
   ]
  },
  {
   "cell_type": "code",
   "execution_count": 7,
   "id": "a068bac2",
   "metadata": {},
   "outputs": [
    {
     "name": "stdout",
     "output_type": "stream",
     "text": [
      "================================================================================\n",
      "📝 INPUT TEXT \n",
      "================================================================================\n",
      "The protein was simulated using AMBER with the TIP3P water model.\n",
      "\n",
      "\n",
      "================================================================================\n",
      "🤖 MODEL RESPONSE (meta-llama/llama-3.1-8b-instruct)\n",
      "================================================================================\n",
      "{\n",
      "  \"entities\": [\n",
      "    {\n",
      "      \"label\": \"SOFTNAME\",\n",
      "      \"text\": \"AMBER\"\n",
      "    },\n",
      "    {\n",
      "      \"label\": \"FFM\",\n",
      "      \"text\": \"TIP3P\"\n",
      "    }\n",
      "  ]\n",
      "}\n",
      "\n",
      "\n",
      "Valid annotation format ✅\n"
     ]
    }
   ],
   "source": [
    "text_to_annotate = EX_MD_TEXTS[0]\n",
    "response = annotate(text_to_annotate, MODEL_OPENROUTER, client=client_openrouter, validation=True)\n",
    "response_json = response.model_dump_json(indent=2)\n",
    "\n",
    "print(\"=\" * 80)\n",
    "print(\"📝 INPUT TEXT \")\n",
    "print(\"=\" * 80)\n",
    "print(text_to_annotate)\n",
    "print(\"\\n\")\n",
    "\n",
    "print(\"=\" * 80)\n",
    "print(f\"🤖 MODEL RESPONSE ({MODEL_OPENROUTER})\")\n",
    "print(\"=\" * 80)\n",
    "print(response_json)\n",
    "print(\"\\n\")\n",
    "\n",
    "# test if the response is a valid JSON\n",
    "if validate_annotation_output_format(response):\n",
    "    print(\"Valid annotation format ✅\")\n",
    "else:\n",
    "    print(\"Invalid annotation format ❌\")"
   ]
  },
  {
   "cell_type": "code",
   "execution_count": 8,
   "id": "ef4ec08a",
   "metadata": {},
   "outputs": [
    {
     "name": "stdout",
     "output_type": "stream",
     "text": [
      "================================================================================\n",
      "🧐 VISUALIZATION OF EXTRACTED ENTITIES\n",
      "================================================================================\n"
     ]
    },
    {
     "data": {
      "text/html": [
       "<span class=\"tex2jax_ignore\"><div class=\"entities\" style=\"line-height: 2.5; direction: ltr\">The protein was simulated using \n",
       "<mark class=\"entity\" style=\"background: #ffffba; padding: 0.45em 0.6em; margin: 0 0.25em; line-height: 1; border-radius: 0.35em;\">\n",
       "    AMBER\n",
       "    <span style=\"font-size: 0.8em; font-weight: bold; line-height: 1; border-radius: 0.35em; vertical-align: middle; margin-left: 0.5rem\">SOFTNAME</span>\n",
       "</mark>\n",
       " with the \n",
       "<mark class=\"entity\" style=\"background: #cdb4db; padding: 0.45em 0.6em; margin: 0 0.25em; line-height: 1; border-radius: 0.35em;\">\n",
       "    TIP3P\n",
       "    <span style=\"font-size: 0.8em; font-weight: bold; line-height: 1; border-radius: 0.35em; vertical-align: middle; margin-left: 0.5rem\">FFM</span>\n",
       "</mark>\n",
       " water model.</div></span>"
      ],
      "text/plain": [
       "<IPython.core.display.HTML object>"
      ]
     },
     "metadata": {},
     "output_type": "display_data"
    }
   ],
   "source": [
    "print(\"=\" * 80)\n",
    "print(\"🧐 VISUALIZATION OF EXTRACTED ENTITIES\")\n",
    "print(\"=\" * 80)\n",
    "# Visualize entities using displacy\n",
    "visualize_entities(text_to_annotate, response_json)"
   ]
  },
  {
   "cell_type": "markdown",
   "id": "3681fc08",
   "metadata": {},
   "source": [
    "# II. Example from our annotation dataset"
   ]
  },
  {
   "cell_type": "markdown",
   "id": "9b90e59c",
   "metadata": {},
   "source": [
    "Now we want to validate our observations statistically. We’ll query the model 100 times and compare the results obtained with and without format validation."
   ]
  },
  {
   "cell_type": "code",
   "execution_count": 49,
   "id": "342293a8",
   "metadata": {},
   "outputs": [
    {
     "name": "stderr",
     "output_type": "stream",
     "text": [
      "Running annotations without validation schema: 100%|██████████| 100/100 [11:03<00:00,  6.64s/it]\n",
      "Running annotations with validation schema:  11%|█         | 11/100 [00:36<03:45,  2.53s/it]"
     ]
    },
    {
     "name": "stdout",
     "output_type": "stream",
     "text": [
      "⚠️ Validated annotation failed after 3 attempts.\n"
     ]
    },
    {
     "name": "stderr",
     "output_type": "stream",
     "text": [
      "Running annotations with validation schema: 100%|██████████| 100/100 [07:31<00:00,  4.52s/it]"
     ]
    },
    {
     "name": "stdout",
     "output_type": "stream",
     "text": [
      "\n",
      "================================================================================\n",
      "📝 Input text:\n",
      "Improved Coarse-Grained Modeling of Cholesterol-Containing Lipid Bilayers Cholesterol trafficking,\n",
      "which is an essential function in mammalian cells, is intimately connected to molecular-scale\n",
      "interactions through cholesterol modulation of membrane structure and dynamics and interaction with\n",
      "membrane receptors. Since these effects of cholesterol occur on micro- to millisecond time scales,\n",
      "it is essential to develop accurate coarse-grained simulation models that can reach these time\n",
      "scales. Cholesterol has been shown experimentally to thicken the membrane and increase phospholipid\n",
      "tail order between 0 and 40% cholesterol, above which these effects plateau or slightly decrease.\n",
      "Here, we showed that the published MARTINI coarse-grained force-field for phospholipid (POPC) and\n",
      "cholesterol fails to capture these effects. Using reference atomistic simulations, we systematically\n",
      "modified POPC and cholesterol bonded parameters in MARTINI to improve its performance. We showed\n",
      "that the corrections to pseudobond angles between glycerol and the lipid tails and around the oleoyl\n",
      "double bond particle (the angle-corrected model ) slightly improves the agreement of MARTINI with\n",
      "experimentally measured thermal, elastic, and dynamic properties of POPC membranes. The angle-\n",
      "corrected model improves prediction of the thickening and ordering effects up to 40% cholesterol but\n",
      "overestimates these effects at higher cholesterol concentration. In accordance with prior work that\n",
      "showed the cholesterol rough face methyl groups are important for limiting cholesterol self-\n",
      "association, we revised the coarse-grained representation of these methyl groups to better match\n",
      "cholesterol-cholesterol radial distribution functions from atomistic simulations. In addition, by\n",
      "using a finer-grained representation of the branched cholesterol tail than MARTINI, we improved\n",
      "predictions of lipid tail order and bilayer thickness across a wide range of concentrations.\n",
      "Finally, transferability testing shows that a model incorporating our revised parameters into DOPC\n",
      "outperforms other CG models in a DOPC/cholesterol simulation series, which further argues for its\n",
      "efficacy and generalizability. These results argue for the importance of systematic optimization for\n",
      "coarse-graining biologically important molecules like cholesterol with complicated molecular\n",
      "structure.\n",
      "\n",
      "📊 Summary after 100 runs with meta-llama/llama-3.1-8b-instruct:\n",
      "❌ Without validation schema : 17.0% valid responses\n",
      "✅ With validation schema    : 49.0% valid responses\n"
     ]
    },
    {
     "name": "stderr",
     "output_type": "stream",
     "text": [
      "\n"
     ]
    }
   ],
   "source": [
    "text_to_annotate = EX_MD_TEXTS[3]\n",
    "annotation_stats = compare_annotation_validation(text_to_annotate, MODEL_OPENROUTER, client_openrouter, num_iterations=100)"
   ]
  },
  {
   "cell_type": "markdown",
   "id": "f3142d3e",
   "metadata": {},
   "source": [
    "➡️ We observe that, for the same query (annotating the same text with the same model and prompt), a few responses (**17%**) are valid JSON without hallucinated text. And as we expect, adding validation schema with PyDantic and Instructor significantly improves the JSON validity of the responses from the model to reach **49%** valid responses."
   ]
  },
  {
   "cell_type": "markdown",
   "id": "58ca11bf",
   "metadata": {},
   "source": [
    "Here is an example of an hallucinated entities (one that doesn't exist in the original text to annotate) :"
   ]
  },
  {
   "cell_type": "code",
   "execution_count": 74,
   "id": "3395b297",
   "metadata": {},
   "outputs": [
    {
     "name": "stdout",
     "output_type": "stream",
     "text": [
      "\n",
      "================================================================================\n",
      "📝 Original text:\n",
      "================================================================================\n",
      "Improved Coarse-Grained Modeling of Cholesterol-Containing Lipid Bilayers Cholesterol trafficking, which is an essential\n",
      "function in mammalian cells, is intimately connected to molecular-scale interactions through cholesterol modulation of\n",
      "membrane structure and dynamics and interaction with membrane receptors. Since these effects of cholesterol occur on\n",
      "micro- to millisecond time scales, it is essential to develop accurate coarse-grained simulation models that can reach\n",
      "these time scales. Cholesterol has been shown experimentally to thicken the membrane and increase phospholipid tail\n",
      "order between 0 and 40% cholesterol, above which these effects plateau or slightly decrease. Here, we showed that the\n",
      "published MARTINI coarse-grained force-field for phospholipid (POPC) and cholesterol fails to capture these effects.\n",
      "Using reference atomistic simulations, we systematically modified POPC and cholesterol bonded parameters in MARTINI to\n",
      "improve its performance. We showed that the corrections to pseudobond angles between glycerol and the lipid tails and\n",
      "around the oleoyl double bond particle (the angle-corrected model ) slightly improves the agreement of MARTINI with\n",
      "experimentally measured thermal, elastic, and dynamic properties of POPC membranes. The angle-corrected model improves\n",
      "prediction of the thickening and ordering effects up to 40% cholesterol but overestimates these effects at higher\n",
      "cholesterol concentration. In accordance with prior work that showed the cholesterol rough face methyl groups are\n",
      "important for limiting cholesterol self-association, we revised the coarse-grained representation of these methyl groups\n",
      "to better match cholesterol-cholesterol radial distribution functions from atomistic simulations. In addition, by using\n",
      "a finer-grained representation of the branched cholesterol tail than MARTINI, we improved predictions of lipid tail\n",
      "order and bilayer thickness across a wide range of concentrations. Finally, transferability testing shows that a model\n",
      "incorporating our revised parameters into DOPC outperforms other CG models in a DOPC/cholesterol simulation series,\n",
      "which further argues for its efficacy and generalizability. These results argue for the importance of systematic\n",
      "optimization for coarse-graining biologically important molecules like cholesterol with complicated molecular structure.\n",
      "\n",
      "================================================================================\n",
      "⚠️ Hallucinated entities detected for 16 annotations:\n",
      "================================================================================\n",
      "Annotation 3 :\n",
      "  - GROMACS\n",
      "  - ECC-\n",
      "\n",
      "Annotation 6 :\n",
      "  - biaxially constrained variant for cholesterol and POPC (The fractional level of cholesterol is therefore above 40% in this modeling system, and provides descriptive ranging from (slightly low POPS and POPC levels up to approximately ~one DOPC lipid molecule included in transferability PCA activation fixation residues ld LOCG ench plan including}\n",
      "  - biaxially constrained variant for cholesterol and POPC\n",
      "  - CHARMM-GUI\n",
      "  - expermental\n",
      "  - SPC/E\n",
      "\n",
      "Annotation 8 :\n",
      "  - GROMACS\n",
      "  - SPC/E\n",
      "\n",
      "Annotation 10 :\n",
      "  - GROMACS\n",
      "\n",
      "Annotation 11 :\n",
      "  - Gromacs\n",
      "\n",
      "Annotation 15 :\n",
      "  - ECC-lipids\n",
      "  - 200K\n",
      "  - OPLS\n",
      "  - 1 microsecond\n",
      "  - 2016.4\n",
      "  - Gromacs\n",
      "  - AMBER\n",
      "  - 40 cohort group\n",
      "\n",
      "Annotation 24 :\n",
      "  - unknown\n",
      "\n",
      "Annotation 26 :\n",
      "  - GROMACS\n",
      "  - null\n",
      "\n",
      "Annotation 34 :\n",
      "  - 0-40% cholesterol\n",
      "\n",
      "Annotation 45 :\n",
      "  - ECC-lipids\n",
      "  - v. 2018.0\n",
      "  - Gromacs\n",
      "  - 1000 ns\n",
      "  - 298\n",
      "\n",
      "Annotation 46 :\n",
      "  - POPBandcholesterol\n",
      "\n",
      "Annotation 47 :\n",
      "  - ECC-lipids\n",
      "  - TOP5000\n",
      "  - GROMACS\n",
      "  - PyCSP\n",
      "  - CHARMM-GUI\n",
      "  - microsecond\n",
      "\n",
      "Annotation 49 :\n",
      "  - GROMACS\n",
      "  - 0 K\n",
      "\n",
      "Annotation 53 :\n",
      "  - Gromacs\n",
      "\n",
      "Annotation 69 :\n",
      "  - GROMACS\n",
      "  - widespread\n",
      "\n",
      "Annotation 92 :\n",
      "  - aligned\n",
      "\n"
     ]
    }
   ],
   "source": [
    "annotations = annotation_stats[\"without_validation\"][\"examples\"]\n",
    "hallucinated_entities = find_hallucinated_entities(annotations, text_to_annotate)\n",
    "report_hallucinated_entities(hallucinated_entities, text_to_annotate)"
   ]
  },
  {
   "cell_type": "code",
   "execution_count": 82,
   "id": "e8ace8f4",
   "metadata": {},
   "outputs": [
    {
     "name": "stdout",
     "output_type": "stream",
     "text": [
      "================================================================================\n",
      "🧐 VISUALIZATION OF EXTRACTED ENTITIES\n",
      "================================================================================\n"
     ]
    },
    {
     "data": {
      "text/html": [
       "<span class=\"tex2jax_ignore\"><div class=\"entities\" style=\"line-height: 2.5; direction: ltr\">Improved Coarse-Grained Modeling of \n",
       "<mark class=\"entity\" style=\"background: #bae1ff; padding: 0.45em 0.6em; margin: 0 0.25em; line-height: 1; border-radius: 0.35em;\">\n",
       "    Cholesterol\n",
       "    <span style=\"font-size: 0.8em; font-weight: bold; line-height: 1; border-radius: 0.35em; vertical-align: middle; margin-left: 0.5rem\">MOL</span>\n",
       "</mark>\n",
       "-Containing Lipid Bilayers<br>\n",
       "<mark class=\"entity\" style=\"background: #bae1ff; padding: 0.45em 0.6em; margin: 0 0.25em; line-height: 1; border-radius: 0.35em;\">\n",
       "    Cholesterol\n",
       "    <span style=\"font-size: 0.8em; font-weight: bold; line-height: 1; border-radius: 0.35em; vertical-align: middle; margin-left: 0.5rem\">MOL</span>\n",
       "</mark>\n",
       " trafficking, which is an essential function in mammalian cells, is intimately connected to molecular-scale interactions through \n",
       "<mark class=\"entity\" style=\"background: #bae1ff; padding: 0.45em 0.6em; margin: 0 0.25em; line-height: 1; border-radius: 0.35em;\">\n",
       "    cholesterol\n",
       "    <span style=\"font-size: 0.8em; font-weight: bold; line-height: 1; border-radius: 0.35em; vertical-align: middle; margin-left: 0.5rem\">MOL</span>\n",
       "</mark>\n",
       " modulation of membrane structure and dynamics and interaction with membrane receptors. Since these effects of \n",
       "<mark class=\"entity\" style=\"background: #bae1ff; padding: 0.45em 0.6em; margin: 0 0.25em; line-height: 1; border-radius: 0.35em;\">\n",
       "    cholesterol\n",
       "    <span style=\"font-size: 0.8em; font-weight: bold; line-height: 1; border-radius: 0.35em; vertical-align: middle; margin-left: 0.5rem\">MOL</span>\n",
       "</mark>\n",
       " occur on \n",
       "<mark class=\"entity\" style=\"background: #baffc9; padding: 0.45em 0.6em; margin: 0 0.25em; line-height: 1; border-radius: 0.35em;\">\n",
       "    micro- to millisecond time scales\n",
       "    <span style=\"font-size: 0.8em; font-weight: bold; line-height: 1; border-radius: 0.35em; vertical-align: middle; margin-left: 0.5rem\">STIME</span>\n",
       "</mark>\n",
       ", it is essential to develop accurate coarse-grained simulation models that can reach these time scales. \n",
       "<mark class=\"entity\" style=\"background: #bae1ff; padding: 0.45em 0.6em; margin: 0 0.25em; line-height: 1; border-radius: 0.35em;\">\n",
       "    Cholesterol\n",
       "    <span style=\"font-size: 0.8em; font-weight: bold; line-height: 1; border-radius: 0.35em; vertical-align: middle; margin-left: 0.5rem\">MOL</span>\n",
       "</mark>\n",
       " has been shown experimentally to thicken the membrane and increase phospholipid tail order between \n",
       "<mark class=\"entity\" style=\"background: #ffb3ba; padding: 0.45em 0.6em; margin: 0 0.25em; line-height: 1; border-radius: 0.35em;\">\n",
       "    0\n",
       "    <span style=\"font-size: 0.8em; font-weight: bold; line-height: 1; border-radius: 0.35em; vertical-align: middle; margin-left: 0.5rem\">TEMP</span>\n",
       "</mark>\n",
       " and \n",
       "<mark class=\"entity\" style=\"background: #ffb3ba; padding: 0.45em 0.6em; margin: 0 0.25em; line-height: 1; border-radius: 0.35em;\">\n",
       "    40%\n",
       "    <span style=\"font-size: 0.8em; font-weight: bold; line-height: 1; border-radius: 0.35em; vertical-align: middle; margin-left: 0.5rem\">TEMP</span>\n",
       "</mark>\n",
       "\n",
       "<mark class=\"entity\" style=\"background: #ffb3ba; padding: 0.45em 0.6em; margin: 0 0.25em; line-height: 1; border-radius: 0.35em;\">\n",
       "    0\n",
       "    <span style=\"font-size: 0.8em; font-weight: bold; line-height: 1; border-radius: 0.35em; vertical-align: middle; margin-left: 0.5rem\">TEMP</span>\n",
       "</mark>\n",
       "% \n",
       "<mark class=\"entity\" style=\"background: #bae1ff; padding: 0.45em 0.6em; margin: 0 0.25em; line-height: 1; border-radius: 0.35em;\">\n",
       "    cholesterol\n",
       "    <span style=\"font-size: 0.8em; font-weight: bold; line-height: 1; border-radius: 0.35em; vertical-align: middle; margin-left: 0.5rem\">MOL</span>\n",
       "</mark>\n",
       ", above which these effects plateau or slightly decrease. Here, we showed that the published \n",
       "<mark class=\"entity\" style=\"background: #cdb4db; padding: 0.45em 0.6em; margin: 0 0.25em; line-height: 1; border-radius: 0.35em;\">\n",
       "    MARTINI\n",
       "    <span style=\"font-size: 0.8em; font-weight: bold; line-height: 1; border-radius: 0.35em; vertical-align: middle; margin-left: 0.5rem\">FFM</span>\n",
       "</mark>\n",
       "\n",
       "<mark class=\"entity\" style=\"background: #ffffba; padding: 0.45em 0.6em; margin: 0 0.25em; line-height: 1; border-radius: 0.35em;\">\n",
       "    MARTINI\n",
       "    <span style=\"font-size: 0.8em; font-weight: bold; line-height: 1; border-radius: 0.35em; vertical-align: middle; margin-left: 0.5rem\">SOFTNAME</span>\n",
       "</mark>\n",
       " coarse-grained force-field for phospholipid (\n",
       "<mark class=\"entity\" style=\"background: #bae1ff; padding: 0.45em 0.6em; margin: 0 0.25em; line-height: 1; border-radius: 0.35em;\">\n",
       "    POPC\n",
       "    <span style=\"font-size: 0.8em; font-weight: bold; line-height: 1; border-radius: 0.35em; vertical-align: middle; margin-left: 0.5rem\">MOL</span>\n",
       "</mark>\n",
       ") and \n",
       "<mark class=\"entity\" style=\"background: #bae1ff; padding: 0.45em 0.6em; margin: 0 0.25em; line-height: 1; border-radius: 0.35em;\">\n",
       "    cholesterol\n",
       "    <span style=\"font-size: 0.8em; font-weight: bold; line-height: 1; border-radius: 0.35em; vertical-align: middle; margin-left: 0.5rem\">MOL</span>\n",
       "</mark>\n",
       " fails to capture these effects. Using reference atomistic simulations, we systematically modified \n",
       "<mark class=\"entity\" style=\"background: #bae1ff; padding: 0.45em 0.6em; margin: 0 0.25em; line-height: 1; border-radius: 0.35em;\">\n",
       "    POPC\n",
       "    <span style=\"font-size: 0.8em; font-weight: bold; line-height: 1; border-radius: 0.35em; vertical-align: middle; margin-left: 0.5rem\">MOL</span>\n",
       "</mark>\n",
       " and \n",
       "<mark class=\"entity\" style=\"background: #bae1ff; padding: 0.45em 0.6em; margin: 0 0.25em; line-height: 1; border-radius: 0.35em;\">\n",
       "    cholesterol\n",
       "    <span style=\"font-size: 0.8em; font-weight: bold; line-height: 1; border-radius: 0.35em; vertical-align: middle; margin-left: 0.5rem\">MOL</span>\n",
       "</mark>\n",
       " bonded parameters in \n",
       "<mark class=\"entity\" style=\"background: #cdb4db; padding: 0.45em 0.6em; margin: 0 0.25em; line-height: 1; border-radius: 0.35em;\">\n",
       "    MARTINI\n",
       "    <span style=\"font-size: 0.8em; font-weight: bold; line-height: 1; border-radius: 0.35em; vertical-align: middle; margin-left: 0.5rem\">FFM</span>\n",
       "</mark>\n",
       "\n",
       "<mark class=\"entity\" style=\"background: #ffffba; padding: 0.45em 0.6em; margin: 0 0.25em; line-height: 1; border-radius: 0.35em;\">\n",
       "    MARTINI\n",
       "    <span style=\"font-size: 0.8em; font-weight: bold; line-height: 1; border-radius: 0.35em; vertical-align: middle; margin-left: 0.5rem\">SOFTNAME</span>\n",
       "</mark>\n",
       " to improve its performance. We showed that the corrections to pseudobond angles between glycerol and the lipid tails and around the oleoyl double bond particle (the angle-corrected model ) slightly improves the agreement of \n",
       "<mark class=\"entity\" style=\"background: #cdb4db; padding: 0.45em 0.6em; margin: 0 0.25em; line-height: 1; border-radius: 0.35em;\">\n",
       "    MARTINI\n",
       "    <span style=\"font-size: 0.8em; font-weight: bold; line-height: 1; border-radius: 0.35em; vertical-align: middle; margin-left: 0.5rem\">FFM</span>\n",
       "</mark>\n",
       "\n",
       "<mark class=\"entity\" style=\"background: #ffffba; padding: 0.45em 0.6em; margin: 0 0.25em; line-height: 1; border-radius: 0.35em;\">\n",
       "    MARTINI\n",
       "    <span style=\"font-size: 0.8em; font-weight: bold; line-height: 1; border-radius: 0.35em; vertical-align: middle; margin-left: 0.5rem\">SOFTNAME</span>\n",
       "</mark>\n",
       " with experimentally measured thermal, elastic, and dynamic properties of \n",
       "<mark class=\"entity\" style=\"background: #bae1ff; padding: 0.45em 0.6em; margin: 0 0.25em; line-height: 1; border-radius: 0.35em;\">\n",
       "    POPC\n",
       "    <span style=\"font-size: 0.8em; font-weight: bold; line-height: 1; border-radius: 0.35em; vertical-align: middle; margin-left: 0.5rem\">MOL</span>\n",
       "</mark>\n",
       " membranes. The angle-corrected model improves prediction of the thickening and ordering effects up to \n",
       "<mark class=\"entity\" style=\"background: #ffb3ba; padding: 0.45em 0.6em; margin: 0 0.25em; line-height: 1; border-radius: 0.35em;\">\n",
       "    40%\n",
       "    <span style=\"font-size: 0.8em; font-weight: bold; line-height: 1; border-radius: 0.35em; vertical-align: middle; margin-left: 0.5rem\">TEMP</span>\n",
       "</mark>\n",
       "\n",
       "<mark class=\"entity\" style=\"background: #ffb3ba; padding: 0.45em 0.6em; margin: 0 0.25em; line-height: 1; border-radius: 0.35em;\">\n",
       "    0\n",
       "    <span style=\"font-size: 0.8em; font-weight: bold; line-height: 1; border-radius: 0.35em; vertical-align: middle; margin-left: 0.5rem\">TEMP</span>\n",
       "</mark>\n",
       "% \n",
       "<mark class=\"entity\" style=\"background: #bae1ff; padding: 0.45em 0.6em; margin: 0 0.25em; line-height: 1; border-radius: 0.35em;\">\n",
       "    cholesterol\n",
       "    <span style=\"font-size: 0.8em; font-weight: bold; line-height: 1; border-radius: 0.35em; vertical-align: middle; margin-left: 0.5rem\">MOL</span>\n",
       "</mark>\n",
       " but overestimates these effects at higher \n",
       "<mark class=\"entity\" style=\"background: #bae1ff; padding: 0.45em 0.6em; margin: 0 0.25em; line-height: 1; border-radius: 0.35em;\">\n",
       "    cholesterol\n",
       "    <span style=\"font-size: 0.8em; font-weight: bold; line-height: 1; border-radius: 0.35em; vertical-align: middle; margin-left: 0.5rem\">MOL</span>\n",
       "</mark>\n",
       " concentration. In accordance with prior work that showed the \n",
       "<mark class=\"entity\" style=\"background: #bae1ff; padding: 0.45em 0.6em; margin: 0 0.25em; line-height: 1; border-radius: 0.35em;\">\n",
       "    cholesterol\n",
       "    <span style=\"font-size: 0.8em; font-weight: bold; line-height: 1; border-radius: 0.35em; vertical-align: middle; margin-left: 0.5rem\">MOL</span>\n",
       "</mark>\n",
       " rough face methyl groups are important for limiting \n",
       "<mark class=\"entity\" style=\"background: #bae1ff; padding: 0.45em 0.6em; margin: 0 0.25em; line-height: 1; border-radius: 0.35em;\">\n",
       "    cholesterol\n",
       "    <span style=\"font-size: 0.8em; font-weight: bold; line-height: 1; border-radius: 0.35em; vertical-align: middle; margin-left: 0.5rem\">MOL</span>\n",
       "</mark>\n",
       " self-association, we revised the coarse-grained representation of these methyl groups to better match \n",
       "<mark class=\"entity\" style=\"background: #bae1ff; padding: 0.45em 0.6em; margin: 0 0.25em; line-height: 1; border-radius: 0.35em;\">\n",
       "    cholesterol\n",
       "    <span style=\"font-size: 0.8em; font-weight: bold; line-height: 1; border-radius: 0.35em; vertical-align: middle; margin-left: 0.5rem\">MOL</span>\n",
       "</mark>\n",
       "-\n",
       "<mark class=\"entity\" style=\"background: #bae1ff; padding: 0.45em 0.6em; margin: 0 0.25em; line-height: 1; border-radius: 0.35em;\">\n",
       "    cholesterol\n",
       "    <span style=\"font-size: 0.8em; font-weight: bold; line-height: 1; border-radius: 0.35em; vertical-align: middle; margin-left: 0.5rem\">MOL</span>\n",
       "</mark>\n",
       " radial distribution functions from atomistic simulations. In addition, by using a finer-grained representation of the branched \n",
       "<mark class=\"entity\" style=\"background: #bae1ff; padding: 0.45em 0.6em; margin: 0 0.25em; line-height: 1; border-radius: 0.35em;\">\n",
       "    cholesterol\n",
       "    <span style=\"font-size: 0.8em; font-weight: bold; line-height: 1; border-radius: 0.35em; vertical-align: middle; margin-left: 0.5rem\">MOL</span>\n",
       "</mark>\n",
       " tail than \n",
       "<mark class=\"entity\" style=\"background: #cdb4db; padding: 0.45em 0.6em; margin: 0 0.25em; line-height: 1; border-radius: 0.35em;\">\n",
       "    MARTINI\n",
       "    <span style=\"font-size: 0.8em; font-weight: bold; line-height: 1; border-radius: 0.35em; vertical-align: middle; margin-left: 0.5rem\">FFM</span>\n",
       "</mark>\n",
       "\n",
       "<mark class=\"entity\" style=\"background: #ffffba; padding: 0.45em 0.6em; margin: 0 0.25em; line-height: 1; border-radius: 0.35em;\">\n",
       "    MARTINI\n",
       "    <span style=\"font-size: 0.8em; font-weight: bold; line-height: 1; border-radius: 0.35em; vertical-align: middle; margin-left: 0.5rem\">SOFTNAME</span>\n",
       "</mark>\n",
       ", we improved predictions of lipid tail order and bilayer thickness across a wide range of concentrations. Finally, transferability testing shows that a model incorporating our revised parameters into \n",
       "<mark class=\"entity\" style=\"background: #bae1ff; padding: 0.45em 0.6em; margin: 0 0.25em; line-height: 1; border-radius: 0.35em;\">\n",
       "    DOPC\n",
       "    <span style=\"font-size: 0.8em; font-weight: bold; line-height: 1; border-radius: 0.35em; vertical-align: middle; margin-left: 0.5rem\">MOL</span>\n",
       "</mark>\n",
       " outperforms other CG models in a \n",
       "<mark class=\"entity\" style=\"background: #bae1ff; padding: 0.45em 0.6em; margin: 0 0.25em; line-height: 1; border-radius: 0.35em;\">\n",
       "    DOPC\n",
       "    <span style=\"font-size: 0.8em; font-weight: bold; line-height: 1; border-radius: 0.35em; vertical-align: middle; margin-left: 0.5rem\">MOL</span>\n",
       "</mark>\n",
       "/\n",
       "<mark class=\"entity\" style=\"background: #bae1ff; padding: 0.45em 0.6em; margin: 0 0.25em; line-height: 1; border-radius: 0.35em;\">\n",
       "    cholesterol\n",
       "    <span style=\"font-size: 0.8em; font-weight: bold; line-height: 1; border-radius: 0.35em; vertical-align: middle; margin-left: 0.5rem\">MOL</span>\n",
       "</mark>\n",
       " simulation series, which further argues for its efficacy and generalizability. These results argue for the importance of systematic optimization for coarse-graining biologically important molecules like \n",
       "<mark class=\"entity\" style=\"background: #bae1ff; padding: 0.45em 0.6em; margin: 0 0.25em; line-height: 1; border-radius: 0.35em;\">\n",
       "    cholesterol\n",
       "    <span style=\"font-size: 0.8em; font-weight: bold; line-height: 1; border-radius: 0.35em; vertical-align: middle; margin-left: 0.5rem\">MOL</span>\n",
       "</mark>\n",
       " with complicated molecular structure.<br></div></span>"
      ],
      "text/plain": [
       "<IPython.core.display.HTML object>"
      ]
     },
     "metadata": {},
     "output_type": "display_data"
    }
   ],
   "source": [
    "print(\"=\" * 80)\n",
    "print(\"🧐 VISUALIZATION OF EXTRACTED ENTITIES\")\n",
    "print(\"=\" * 80)\n",
    "# Visualize entities using displacy\n",
    "first_annotation = annotation_stats[\"with_validation\"][\"examples\"][16]\n",
    "visualize_entities(text_to_annotate, first_annotation)"
   ]
  },
  {
   "cell_type": "markdown",
   "id": "d2ccaa01",
   "metadata": {},
   "source": [
    "## II.3 Testing with OpenAI models"
   ]
  },
  {
   "cell_type": "code",
   "execution_count": 83,
   "id": "95d8b2a4",
   "metadata": {},
   "outputs": [
    {
     "name": "stderr",
     "output_type": "stream",
     "text": [
      "Running annotations without validation schema: 100%|██████████| 100/100 [07:08<00:00,  4.29s/it]\n",
      "Running annotations with validation schema: 100%|██████████| 100/100 [04:21<00:00,  2.62s/it]"
     ]
    },
    {
     "name": "stdout",
     "output_type": "stream",
     "text": [
      "\n",
      "================================================================================\n",
      "📝 Input text:\n",
      "Improved Coarse-Grained Modeling of Cholesterol-Containing Lipid Bilayers Cholesterol trafficking, which is an essential\n",
      "function in mammalian cells, is intimately connected to molecular-scale interactions through cholesterol modulation of\n",
      "membrane structure and dynamics and interaction with membrane receptors. Since these effects of cholesterol occur on\n",
      "micro- to millisecond time scales, it is essential to develop accurate coarse-grained simulation models that can reach\n",
      "these time scales. Cholesterol has been shown experimentally to thicken the membrane and increase phospholipid tail\n",
      "order between 0 and 40% cholesterol, above which these effects plateau or slightly decrease. Here, we showed that the\n",
      "published MARTINI coarse-grained force-field for phospholipid (POPC) and cholesterol fails to capture these effects.\n",
      "Using reference atomistic simulations, we systematically modified POPC and cholesterol bonded parameters in MARTINI to\n",
      "improve its performance. We showed that the corrections to pseudobond angles between glycerol and the lipid tails and\n",
      "around the oleoyl double bond particle (the angle-corrected model ) slightly improves the agreement of MARTINI with\n",
      "experimentally measured thermal, elastic, and dynamic properties of POPC membranes. The angle-corrected model improves\n",
      "prediction of the thickening and ordering effects up to 40% cholesterol but overestimates these effects at higher\n",
      "cholesterol concentration. In accordance with prior work that showed the cholesterol rough face methyl groups are\n",
      "important for limiting cholesterol self-association, we revised the coarse-grained representation of these methyl groups\n",
      "to better match cholesterol-cholesterol radial distribution functions from atomistic simulations. In addition, by using\n",
      "a finer-grained representation of the branched cholesterol tail than MARTINI, we improved predictions of lipid tail\n",
      "order and bilayer thickness across a wide range of concentrations. Finally, transferability testing shows that a model\n",
      "incorporating our revised parameters into DOPC outperforms other CG models in a DOPC/cholesterol simulation series,\n",
      "which further argues for its efficacy and generalizability. These results argue for the importance of systematic\n",
      "optimization for coarse-graining biologically important molecules like cholesterol with complicated molecular structure.\n",
      "================================================================================\n",
      "\n",
      "\n",
      "================================================================================\n",
      "📊 Summary after 100 runs with gpt-4o-mini-2024-07-18:\n",
      "================================================================================\n",
      "\n",
      "❌ Without validation schema : 87.0% valid responses\n",
      "✅ With validation schema    : 100.0% valid responses\n"
     ]
    },
    {
     "name": "stderr",
     "output_type": "stream",
     "text": [
      "\n"
     ]
    }
   ],
   "source": [
    "text_to_annotate = EX_MD_TEXTS[3]\n",
    "annotation_stats = compare_annotation_validation(text_to_annotate, MODEL_OPENAI, client_openai, num_iterations=100)"
   ]
  },
  {
   "cell_type": "markdown",
   "id": "3c07a81f",
   "metadata": {},
   "source": [
    "➡️ We can see that without the validation schema with an openAI model, 88% of the responses are corrects. And 100% are correct with validation ! "
   ]
  },
  {
   "cell_type": "markdown",
   "id": "15e603b6",
   "metadata": {},
   "source": [
    "# Conclusion 💡\n",
    "\n",
    "The conclusion of the tests is that validation helps ensure the output follows the expected schema. \n",
    "\n",
    "But we notice that with OpenAI models, the JSON is often already well-structured. In contrast, smaller models like llama-3.1-8b-instant tend to produce less consistent outputs. The strong performance of larger models is also partly due to effective prompt engineering techniques, such as few-shot examples.\n",
    "\n",
    "\n",
    "In short, combining good prompt design with schema validation with Pydantic and Instructor provide the structure and validation needed to ensure models generate consistent and trustworthy outputs 🌟"
   ]
  }
 ],
 "metadata": {
  "kernelspec": {
   "display_name": "mdner-llm",
   "language": "python",
   "name": "python3"
  },
  "language_info": {
   "codemirror_mode": {
    "name": "ipython",
    "version": 3
   },
   "file_extension": ".py",
   "mimetype": "text/x-python",
   "name": "python",
   "nbconvert_exporter": "python",
   "pygments_lexer": "ipython3",
   "version": "3.13.7"
  }
 },
 "nbformat": 4,
 "nbformat_minor": 5
}
