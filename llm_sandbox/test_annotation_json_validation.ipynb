{
 "cells": [
  {
   "cell_type": "markdown",
   "id": "8de66c95",
   "metadata": {},
   "source": [
    "# "
   ]
  },
  {
   "cell_type": "markdown",
   "id": "1b0eca9c",
   "metadata": {},
   "source": [
    "# Test the LLM annotation with PyDantic and Instructor  ☑\n",
    "\n",
    "### ⚠️ Background  \n",
    "Previous attempts used **XML tags** (e.g., `<MOL>POPC</MOL>`) to annotate entities in Molecular Dynamics (MD) texts.  \n",
    "However, this approach had several issues:  \n",
    "- LLMs sometimes **modified the input text**  \n",
    "- The **XML structure** was often **broken** (missing tags)  \n",
    "- Parsing results were **fragile and inconsistent**\n",
    "\n",
    "\n",
    "### 🎯 Objectives  \n",
    "- ✅ **Improve** LLM annotation outputs for MD text  \n",
    "- 🧾 **Enforce structured JSON** outputs instead of XML  \n",
    "- 🔍 **Validate** and **control schema** using:\n",
    "  - **Pydantic** → defines the expected JSON structure  \n",
    "  - **Instructor** → forces the LLM to comply with that structure\n",
    "__________"
   ]
  },
  {
   "cell_type": "markdown",
   "id": "be57520f",
   "metadata": {},
   "source": [
    "## Package version"
   ]
  },
  {
   "cell_type": "code",
   "execution_count": 1,
   "id": "5e75c323",
   "metadata": {},
   "outputs": [
    {
     "name": "stdout",
     "output_type": "stream",
     "text": [
      "Last updated: 2025-10-20T13:57:28.800196+02:00\n",
      "\n",
      "Python implementation: CPython\n",
      "Python version       : 3.13.7\n",
      "IPython version      : 8.13.2\n",
      "\n",
      "Compiler    : GCC 14.3.0\n",
      "OS          : Linux\n",
      "Release     : 6.14.0-32-generic\n",
      "Machine     : x86_64\n",
      "Processor   : x86_64\n",
      "CPU cores   : 32\n",
      "Architecture: 64bit\n",
      "\n",
      "numpy     : 2.3.1\n",
      "pandas    : 2.3.1\n",
      "matplotlib: 3.10.3\n",
      "pydantic  : 2.11.7\n",
      "openai    : 1.93.2\n",
      "groq      : 0.29.0\n",
      "instructor: 1.11.3\n",
      "\n"
     ]
    }
   ],
   "source": [
    "%load_ext watermark\n",
    "%watermark\n",
    "%watermark --packages numpy,pandas,matplotlib,pydantic,openai,groq,instructor"
   ]
  },
  {
   "cell_type": "markdown",
   "id": "63878c74",
   "metadata": {},
   "source": [
    "______"
   ]
  },
  {
   "cell_type": "code",
   "execution_count": 1,
   "id": "c1100f49",
   "metadata": {},
   "outputs": [],
   "source": [
    "# Import libraries\n",
    "import os\n",
    "import json\n",
    "from tqdm import tqdm\n",
    "\n",
    "import instructor\n",
    "from groq import Groq\n",
    "from openai import OpenAI\n",
    "from dotenv import load_dotenv\n",
    "from pydantic import BaseModel, Field\n",
    "\n",
    "# Import utility functions and constants\n",
    "from utils import annotate, check_json_validity, PROMPT, visualize_entities"
   ]
  },
  {
   "cell_type": "code",
   "execution_count": 13,
   "id": "d39a3b3e",
   "metadata": {},
   "outputs": [],
   "source": [
    "# Constants\n",
    "MODEL_GROQ = \"llama-3.1-8b-instant\"\n",
    "MODEL_OPENAI = \"gpt-4o-mini-2024-07-18\" #\"o3-mini-2025-01-31\"\n",
    "MODEL_OPENROUTER = \"meta-llama/llama-3.1-8b-instruct\"\n",
    "\n",
    "EX_MD_TEXTS = [\n",
    "    \"The protein was simulated using AMBER with the TIP3P water model.\",\n",
    "    \"Visualization was done with VMD, and the MD run used GROMOS96 parameters.\",\n",
    "    \"A POPC:CHOL membrane was built using CHARMM-GUI.\",\n",
    "    \"\"\"Improved Coarse-Grained Modeling of Cholesterol-Containing Lipid Bilayers\n",
    "Cholesterol trafficking, which is an essential function in mammalian cells, is intimately connected to molecular-scale interactions through cholesterol modulation of membrane structure and dynamics and interaction with membrane receptors. Since these effects of cholesterol occur on micro- to millisecond time scales, it is essential to develop accurate coarse-grained simulation models that can reach these time scales. Cholesterol has been shown experimentally to thicken the membrane and increase phospholipid tail order between 0 and 40% cholesterol, above which these effects plateau or slightly decrease. Here, we showed that the published MARTINI coarse-grained force-field for phospholipid (POPC) and cholesterol fails to capture these effects. Using reference atomistic simulations, we systematically modified POPC and cholesterol bonded parameters in MARTINI to improve its performance. We showed that the corrections to pseudobond angles between glycerol and the lipid tails and around the oleoyl double bond particle (the angle-corrected model ) slightly improves the agreement of MARTINI with experimentally measured thermal, elastic, and dynamic properties of POPC membranes. The angle-corrected model improves prediction of the thickening and ordering effects up to 40% cholesterol but overestimates these effects at higher cholesterol concentration. In accordance with prior work that showed the cholesterol rough face methyl groups are important for limiting cholesterol self-association, we revised the coarse-grained representation of these methyl groups to better match cholesterol-cholesterol radial distribution functions from atomistic simulations. In addition, by using a finer-grained representation of the branched cholesterol tail than MARTINI, we improved predictions of lipid tail order and bilayer thickness across a wide range of concentrations. Finally, transferability testing shows that a model incorporating our revised parameters into DOPC outperforms other CG models in a DOPC/cholesterol simulation series, which further argues for its efficacy and generalizability. These results argue for the importance of systematic optimization for coarse-graining biologically important molecules like cholesterol with complicated molecular structure.\n",
    "\"\"\"\n",
    "]"
   ]
  },
  {
   "cell_type": "code",
   "execution_count": 3,
   "id": "8b7222b1",
   "metadata": {},
   "outputs": [],
   "source": [
    "# Configs\n",
    "# Load environment variables from .env file\n",
    "load_dotenv()\n",
    "\n",
    "# Initialize the Groq client (https://python.useinstructor.com/integrations/groq/)\n",
    "client_groq = Groq(api_key=os.getenv(\"GROQ_API_KEY\"))\n",
    "client_groq = instructor.from_provider(f\"groq/{MODEL_GROQ}\", mode=instructor.Mode.JSON)\n",
    "\n",
    "# Initialize the OpenAI client\n",
    "client_openai = instructor.from_provider(f\"openai/{MODEL_OPENAI}\", mode=instructor.Mode.JSON)\n",
    "\n",
    "# Initialize the OpenRouter client (https://python.useinstructor.com/integrations/openrouter/)\n",
    "client_openrouter = instructor.from_provider(f\"openrouter/{MODEL_OPENROUTER}\", mode=instructor.Mode.JSON)"
   ]
  },
  {
   "cell_type": "markdown",
   "id": "7a4c4647",
   "metadata": {},
   "source": [
    "_____________"
   ]
  },
  {
   "cell_type": "markdown",
   "id": "cf7a527e",
   "metadata": {},
   "source": [
    "# I. Simple example"
   ]
  },
  {
   "cell_type": "markdown",
   "id": "77b9f597",
   "metadata": {},
   "source": [
    "## I.1 Without validation 🚫\n",
    "\n",
    "The LLM output is returned **as-is**, without enforcing a schema.  \n",
    "This helps check if the model produces **valid JSON** and adheres to the expected structure."
   ]
  },
  {
   "cell_type": "code",
   "execution_count": null,
   "id": "b0a85d95",
   "metadata": {},
   "outputs": [
    {
     "name": "stdout",
     "output_type": "stream",
     "text": [
      "================================================================================\n",
      "📝 INPUT TEXT \n",
      "================================================================================\n",
      "The protein was simulated using AMBER with the TIP3P water model.\n",
      "\n",
      "\n",
      "================================================================================\n",
      "🤖 MODEL RESPONSE (meta-llama/llama-3.1-8b-instruct)\n",
      "================================================================================\n",
      "Here is the annotated text:\n",
      "\n",
      "{\"entities\" : [ {\"label\": \"SOFTNAME\", \"text\": \"AMBER\"}, {\"label\": \"FFM\", \"text\": \"TIP3P\"}, {\"label\": \"MOL\", \"text\": \"water\"}]}\n",
      "\n",
      "\n",
      "Invalid JSON ❌\n"
     ]
    }
   ],
   "source": [
    "text_to_annotate = EX_MD_TEXTS[0]\n",
    "response = annotate(text_to_annotate, MODEL_OPENROUTER, client=client_openrouter, validation=False)\n",
    "\n",
    "print(\"=\" * 80)\n",
    "print(\"📝 INPUT TEXT \")\n",
    "print(\"=\" * 80)\n",
    "print(text_to_annotate)\n",
    "print(\"\\n\")\n",
    "\n",
    "print(\"=\" * 80)\n",
    "print(f\"🤖 MODEL RESPONSE ({MODEL_OPENROUTER})\")\n",
    "print(\"=\" * 80)\n",
    "print(response)\n",
    "print(\"\\n\")\n",
    "\n",
    "# test if the response is a valid JSON\n",
    "if check_json_validity(response):\n",
    "    print(\"Valid JSON ✅\")\n",
    "else:\n",
    "    print(\"Invalid JSON ❌\")"
   ]
  },
  {
   "cell_type": "markdown",
   "id": "1972f164",
   "metadata": {},
   "source": [
    " ➡️ In this case, the response is correct, but the model adds \"*Here is the annotated text:*\" instead of strictly following the instruction to output JSON."
   ]
  },
  {
   "cell_type": "markdown",
   "id": "63e3dd20",
   "metadata": {},
   "source": [
    "## 2. With validation ✅"
   ]
  },
  {
   "cell_type": "markdown",
   "id": "4aad2a2e",
   "metadata": {},
   "source": [
    "Now, we test it with pydantic and instructor !"
   ]
  },
  {
   "cell_type": "code",
   "execution_count": null,
   "id": "a068bac2",
   "metadata": {},
   "outputs": [
    {
     "name": "stdout",
     "output_type": "stream",
     "text": [
      "================================================================================\n",
      "📝 INPUT TEXT \n",
      "================================================================================\n",
      "The protein was simulated using AMBER with the TIP3P water model.\n",
      "\n",
      "\n",
      "================================================================================\n",
      "🤖 MODEL RESPONSE (meta-llama/llama-3.1-8b-instruct)\n",
      "================================================================================\n",
      "{\n",
      "  \"entities\": [\n",
      "    {\n",
      "      \"label\": \"SOFTNAME\",\n",
      "      \"text\": \"AMBER\"\n",
      "    },\n",
      "    {\n",
      "      \"label\": \"FFM\",\n",
      "      \"text\": \"TIP3P\"\n",
      "    }\n",
      "  ]\n",
      "}\n",
      "\n",
      "\n",
      "Valid JSON ✅\n"
     ]
    }
   ],
   "source": [
    "text_to_annotate = EX_MD_TEXTS[0]\n",
    "response = annotate(text_to_annotate, MODEL_OPENROUTER, client=client_openrouter, validation=True)\n",
    "\n",
    "print(\"=\" * 80)\n",
    "print(\"📝 INPUT TEXT \")\n",
    "print(\"=\" * 80)\n",
    "print(text_to_annotate)\n",
    "print(\"\\n\")\n",
    "\n",
    "print(\"=\" * 80)\n",
    "print(f\"🤖 MODEL RESPONSE ({MODEL_OPENROUTER})\")\n",
    "print(\"=\" * 80)\n",
    "print(response)\n",
    "print(\"\\n\")\n",
    "\n",
    "# test if the response is a valid JSON\n",
    "if check_json_validity(response):\n",
    "    print(\"Valid JSON ✅\")\n",
    "else:\n",
    "    print(\"Invalid JSON ❌\")"
   ]
  },
  {
   "cell_type": "code",
   "execution_count": null,
   "id": "ef4ec08a",
   "metadata": {},
   "outputs": [
    {
     "name": "stdout",
     "output_type": "stream",
     "text": [
      "================================================================================\n",
      "🧐 VISUALIZATION OF EXTRACTED ENTITIES\n",
      "================================================================================\n"
     ]
    },
    {
     "data": {
      "text/html": [
       "<span class=\"tex2jax_ignore\"><div class=\"entities\" style=\"line-height: 2.5; direction: ltr\">The protein was simulated using \n",
       "<mark class=\"entity\" style=\"background: #ffffba; padding: 0.45em 0.6em; margin: 0 0.25em; line-height: 1; border-radius: 0.35em;\">\n",
       "    AMBER\n",
       "    <span style=\"font-size: 0.8em; font-weight: bold; line-height: 1; border-radius: 0.35em; vertical-align: middle; margin-left: 0.5rem\">SOFTNAME</span>\n",
       "</mark>\n",
       " with the \n",
       "<mark class=\"entity\" style=\"background: #cdb4db; padding: 0.45em 0.6em; margin: 0 0.25em; line-height: 1; border-radius: 0.35em;\">\n",
       "    TIP3P\n",
       "    <span style=\"font-size: 0.8em; font-weight: bold; line-height: 1; border-radius: 0.35em; vertical-align: middle; margin-left: 0.5rem\">FFM</span>\n",
       "</mark>\n",
       " water model.</div></span>"
      ],
      "text/plain": [
       "<IPython.core.display.HTML object>"
      ]
     },
     "metadata": {},
     "output_type": "display_data"
    }
   ],
   "source": [
    "print(\"=\" * 80)\n",
    "print(\"🧐 VISUALIZATION OF EXTRACTED ENTITIES\")\n",
    "print(\"=\" * 80)\n",
    "# Visualize entities using displacy\n",
    "visualize_entities(text_to_annotate, response)"
   ]
  },
  {
   "cell_type": "markdown",
   "id": "3681fc08",
   "metadata": {},
   "source": [
    "# II. Example from our annotation dataset"
   ]
  },
  {
   "cell_type": "markdown",
   "id": "9b90e59c",
   "metadata": {},
   "source": [
    "Now we want to validate our observations statistically. We’ll query the model 100 times and compare the results obtained with and without format validation."
   ]
  },
  {
   "cell_type": "markdown",
   "id": "0c389981",
   "metadata": {},
   "source": [
    "## II.1 Without validation 🚫\n"
   ]
  },
  {
   "cell_type": "code",
   "execution_count": null,
   "id": "e5906889",
   "metadata": {},
   "outputs": [
    {
     "name": "stderr",
     "output_type": "stream",
     "text": [
      "Running annotations: 100%|██████████| 100/100 [07:54<00:00,  4.75s/it]"
     ]
    },
    {
     "name": "stdout",
     "output_type": "stream",
     "text": [
      "\n",
      "================================================================================\n",
      "📝 Input text:\n",
      "Improved Coarse-Grained Modeling of Cholesterol-Containing Lipid Bilayers\n",
      "Cholesterol trafficking, which is an essential function in mammalian cells, is intimately connected to molecular-scale interactions through cholesterol modulation of membrane structure and dynamics and interaction with membrane receptors. Since these effects of cholesterol occur on micro- to millisecond time scales, it is essential to develop accurate coarse-grained simulation models that can reach these time scales. Cholesterol has been shown experimentally to thicken the membrane and increase phospholipid tail order between 0 and 40% cholesterol, above which these effects plateau or slightly decrease. Here, we showed that the published MARTINI coarse-grained force-field for phospholipid (POPC) and cholesterol fails to capture these effects. Using reference atomistic simulations, we systematically modified POPC and cholesterol bonded parameters in MARTINI to improve its performance. We showed that the corrections to pseudobond angles between glycerol and the lipid tails and around the oleoyl double bond particle (the angle-corrected model ) slightly improves the agreement of MARTINI with experimentally measured thermal, elastic, and dynamic properties of POPC membranes. The angle-corrected model improves prediction of the thickening and ordering effects up to 40% cholesterol but overestimates these effects at higher cholesterol concentration. In accordance with prior work that showed the cholesterol rough face methyl groups are important for limiting cholesterol self-association, we revised the coarse-grained representation of these methyl groups to better match cholesterol-cholesterol radial distribution functions from atomistic simulations. In addition, by using a finer-grained representation of the branched cholesterol tail than MARTINI, we improved predictions of lipid tail order and bilayer thickness across a wide range of concentrations. Finally, transferability testing shows that a model incorporating our revised parameters into DOPC outperforms other CG models in a DOPC/cholesterol simulation series, which further argues for its efficacy and generalizability. These results argue for the importance of systematic optimization for coarse-graining biologically important molecules like cholesterol with complicated molecular structure.\n",
      "\n",
      "\n",
      "📊 Summary after 100 runs with meta-llama/llama-3.1-8b-instruct:\n",
      "✔ Valid responses:   37\n",
      "❌ Invalid responses: 63\n",
      "================================================================================\n"
     ]
    },
    {
     "name": "stderr",
     "output_type": "stream",
     "text": [
      "\n"
     ]
    }
   ],
   "source": [
    "text_to_annotate = EX_MD_TEXTS[3]\n",
    "stat_num_iterations = 100\n",
    "valid_count = 0\n",
    "invalid_count = 0\n",
    "entities_list = []\n",
    "\n",
    "for _ in tqdm(range(stat_num_iterations), desc=\"Running annotations\"):\n",
    "    entities_list.append(annotate(text_to_annotate, MODEL_OPENROUTER, client_openrouter, validation=False))\n",
    "    if check_json_validity(entities_list[-1]):\n",
    "        valid_count += 1\n",
    "    else:\n",
    "        invalid_count += 1\n",
    "\n",
    "print(\"\\n\" + \"=\"*80)\n",
    "print(f\"📝 Input text:\\n{text_to_annotate}\\n\")\n",
    "print(f\"📊 Summary after {stat_num_iterations} runs with {MODEL_OPENROUTER}:\")\n",
    "print(f\"✔ Valid responses:   {valid_count}\")\n",
    "print(f\"❌ Invalid responses: {invalid_count}\")\n",
    "print(\"=\"*80)"
   ]
  },
  {
   "cell_type": "markdown",
   "id": "0ec30df9",
   "metadata": {},
   "source": [
    "➡️ We observe that, for the same query (annotating the same text with the same model and prompt), the majority of responses (**63%**) are not valid JSON."
   ]
  },
  {
   "cell_type": "markdown",
   "id": "f1b58298",
   "metadata": {},
   "source": [
    "## II.2 With validation ✅\n"
   ]
  },
  {
   "cell_type": "code",
   "execution_count": null,
   "id": "760148d5",
   "metadata": {},
   "outputs": [
    {
     "name": "stderr",
     "output_type": "stream",
     "text": [
      "Running annotations: 100%|██████████| 100/100 [26:59<00:00, 16.20s/it] "
     ]
    },
    {
     "name": "stdout",
     "output_type": "stream",
     "text": [
      "\n",
      "================================================================================\n",
      "📝 Input text:\n",
      "Improved Coarse-Grained Modeling of Cholesterol-Containing Lipid Bilayers\n",
      "Cholesterol trafficking, which is an essential function in mammalian cells, is intimately connected to molecular-scale interactions through cholesterol modulation of membrane structure and dynamics and interaction with membrane receptors. Since these effects of cholesterol occur on micro- to millisecond time scales, it is essential to develop accurate coarse-grained simulation models that can reach these time scales. Cholesterol has been shown experimentally to thicken the membrane and increase phospholipid tail order between 0 and 40% cholesterol, above which these effects plateau or slightly decrease. Here, we showed that the published MARTINI coarse-grained force-field for phospholipid (POPC) and cholesterol fails to capture these effects. Using reference atomistic simulations, we systematically modified POPC and cholesterol bonded parameters in MARTINI to improve its performance. We showed that the corrections to pseudobond angles between glycerol and the lipid tails and around the oleoyl double bond particle (the angle-corrected model ) slightly improves the agreement of MARTINI with experimentally measured thermal, elastic, and dynamic properties of POPC membranes. The angle-corrected model improves prediction of the thickening and ordering effects up to 40% cholesterol but overestimates these effects at higher cholesterol concentration. In accordance with prior work that showed the cholesterol rough face methyl groups are important for limiting cholesterol self-association, we revised the coarse-grained representation of these methyl groups to better match cholesterol-cholesterol radial distribution functions from atomistic simulations. In addition, by using a finer-grained representation of the branched cholesterol tail than MARTINI, we improved predictions of lipid tail order and bilayer thickness across a wide range of concentrations. Finally, transferability testing shows that a model incorporating our revised parameters into DOPC outperforms other CG models in a DOPC/cholesterol simulation series, which further argues for its efficacy and generalizability. These results argue for the importance of systematic optimization for coarse-graining biologically important molecules like cholesterol with complicated molecular structure.\n",
      "\n",
      "\n",
      "📊 Summary after 100 runs with meta-llama/llama-3.1-8b-instruct:\n",
      "✔ Valid responses:   100\n",
      "❌ Invalid responses: 0\n"
     ]
    },
    {
     "name": "stderr",
     "output_type": "stream",
     "text": [
      "\n"
     ]
    }
   ],
   "source": [
    "stat_num_iterations = 100\n",
    "valid_count = 0\n",
    "invalid_count = 0\n",
    "entities_validated_list = []\n",
    "\n",
    "for _ in tqdm(range(stat_num_iterations), desc=\"Running annotations\"):\n",
    "    entities_validated_list.append(annotate(text_to_annotate, MODEL_OPENROUTER, client_openrouter, validation=True))\n",
    "    #time.sleep(30)  # To avoid rate limiting\n",
    "    if check_json_validity(entities_validated_list[-1]):\n",
    "        valid_count += 1\n",
    "    else:\n",
    "        invalid_count += 1\n",
    "\n",
    "print(\"\\n\" + \"=\"*80)\n",
    "print(f\"📝 Input text:\\n{text_to_annotate}\\n\")\n",
    "print(f\"📊 Summary after {stat_num_iterations} runs with {MODEL_OPENROUTER}:\")\n",
    "print(f\"✔ Valid responses:   {valid_count}\")\n",
    "print(f\"❌ Invalid responses: {invalid_count}\")"
   ]
  },
  {
   "cell_type": "markdown",
   "id": "ba56adb1",
   "metadata": {},
   "source": [
    "➡️ As we expect, adding validation schema with PyDantic and Instructor significantly improves the JSON validity of the responses from the model to reach **100%** valid responses."
   ]
  },
  {
   "cell_type": "code",
   "execution_count": 9,
   "id": "e8ace8f4",
   "metadata": {},
   "outputs": [
    {
     "name": "stdout",
     "output_type": "stream",
     "text": [
      "================================================================================\n",
      "🧐 VISUALIZATION OF EXTRACTED ENTITIES\n",
      "================================================================================\n"
     ]
    },
    {
     "data": {
      "text/html": [
       "<span class=\"tex2jax_ignore\"><div class=\"entities\" style=\"line-height: 2.5; direction: ltr\">Improved Coarse-Grained Modeling of Cholesterol-Containing Lipid Bilayers<br>Cholesterol trafficking, which is an essential function in mammalian cells, is intimately connected to molecular-scale interactions through \n",
       "<mark class=\"entity\" style=\"background: #bae1ff; padding: 0.45em 0.6em; margin: 0 0.25em; line-height: 1; border-radius: 0.35em;\">\n",
       "    cholesterol\n",
       "    <span style=\"font-size: 0.8em; font-weight: bold; line-height: 1; border-radius: 0.35em; vertical-align: middle; margin-left: 0.5rem\">MOL</span>\n",
       "</mark>\n",
       " modulation of membrane structure and dynamics and interaction with membrane receptors. Since these effects of \n",
       "<mark class=\"entity\" style=\"background: #bae1ff; padding: 0.45em 0.6em; margin: 0 0.25em; line-height: 1; border-radius: 0.35em;\">\n",
       "    cholesterol\n",
       "    <span style=\"font-size: 0.8em; font-weight: bold; line-height: 1; border-radius: 0.35em; vertical-align: middle; margin-left: 0.5rem\">MOL</span>\n",
       "</mark>\n",
       " occur on micro- to millisecond time scales, it is essential to develop accurate coarse-grained simulation models that can reach these time scales. Cholesterol has been shown experimentally to thicken the membrane and increase phospholipid tail order between 0 and 40% \n",
       "<mark class=\"entity\" style=\"background: #bae1ff; padding: 0.45em 0.6em; margin: 0 0.25em; line-height: 1; border-radius: 0.35em;\">\n",
       "    cholesterol\n",
       "    <span style=\"font-size: 0.8em; font-weight: bold; line-height: 1; border-radius: 0.35em; vertical-align: middle; margin-left: 0.5rem\">MOL</span>\n",
       "</mark>\n",
       ", above which these effects plateau or slightly decrease. Here, we showed that the published \n",
       "<mark class=\"entity\" style=\"background: #cdb4db; padding: 0.45em 0.6em; margin: 0 0.25em; line-height: 1; border-radius: 0.35em;\">\n",
       "    MARTINI\n",
       "    <span style=\"font-size: 0.8em; font-weight: bold; line-height: 1; border-radius: 0.35em; vertical-align: middle; margin-left: 0.5rem\">FFM</span>\n",
       "</mark>\n",
       "\n",
       "<mark class=\"entity\" style=\"background: #cdb4db; padding: 0.45em 0.6em; margin: 0 0.25em; line-height: 1; border-radius: 0.35em;\">\n",
       "    MARTINI\n",
       "    <span style=\"font-size: 0.8em; font-weight: bold; line-height: 1; border-radius: 0.35em; vertical-align: middle; margin-left: 0.5rem\">FFM</span>\n",
       "</mark>\n",
       "\n",
       "<mark class=\"entity\" style=\"background: #cdb4db; padding: 0.45em 0.6em; margin: 0 0.25em; line-height: 1; border-radius: 0.35em;\">\n",
       "    MARTINI\n",
       "    <span style=\"font-size: 0.8em; font-weight: bold; line-height: 1; border-radius: 0.35em; vertical-align: middle; margin-left: 0.5rem\">FFM</span>\n",
       "</mark>\n",
       " coarse-grained force-field for phospholipid (\n",
       "<mark class=\"entity\" style=\"background: #bae1ff; padding: 0.45em 0.6em; margin: 0 0.25em; line-height: 1; border-radius: 0.35em;\">\n",
       "    POPC\n",
       "    <span style=\"font-size: 0.8em; font-weight: bold; line-height: 1; border-radius: 0.35em; vertical-align: middle; margin-left: 0.5rem\">MOL</span>\n",
       "</mark>\n",
       ") and \n",
       "<mark class=\"entity\" style=\"background: #bae1ff; padding: 0.45em 0.6em; margin: 0 0.25em; line-height: 1; border-radius: 0.35em;\">\n",
       "    cholesterol\n",
       "    <span style=\"font-size: 0.8em; font-weight: bold; line-height: 1; border-radius: 0.35em; vertical-align: middle; margin-left: 0.5rem\">MOL</span>\n",
       "</mark>\n",
       " fails to capture these effects. Using reference atomistic simulations, we systematically modified \n",
       "<mark class=\"entity\" style=\"background: #bae1ff; padding: 0.45em 0.6em; margin: 0 0.25em; line-height: 1; border-radius: 0.35em;\">\n",
       "    POPC\n",
       "    <span style=\"font-size: 0.8em; font-weight: bold; line-height: 1; border-radius: 0.35em; vertical-align: middle; margin-left: 0.5rem\">MOL</span>\n",
       "</mark>\n",
       " and \n",
       "<mark class=\"entity\" style=\"background: #bae1ff; padding: 0.45em 0.6em; margin: 0 0.25em; line-height: 1; border-radius: 0.35em;\">\n",
       "    cholesterol\n",
       "    <span style=\"font-size: 0.8em; font-weight: bold; line-height: 1; border-radius: 0.35em; vertical-align: middle; margin-left: 0.5rem\">MOL</span>\n",
       "</mark>\n",
       " bonded parameters in \n",
       "<mark class=\"entity\" style=\"background: #cdb4db; padding: 0.45em 0.6em; margin: 0 0.25em; line-height: 1; border-radius: 0.35em;\">\n",
       "    MARTINI\n",
       "    <span style=\"font-size: 0.8em; font-weight: bold; line-height: 1; border-radius: 0.35em; vertical-align: middle; margin-left: 0.5rem\">FFM</span>\n",
       "</mark>\n",
       "\n",
       "<mark class=\"entity\" style=\"background: #cdb4db; padding: 0.45em 0.6em; margin: 0 0.25em; line-height: 1; border-radius: 0.35em;\">\n",
       "    MARTINI\n",
       "    <span style=\"font-size: 0.8em; font-weight: bold; line-height: 1; border-radius: 0.35em; vertical-align: middle; margin-left: 0.5rem\">FFM</span>\n",
       "</mark>\n",
       "\n",
       "<mark class=\"entity\" style=\"background: #cdb4db; padding: 0.45em 0.6em; margin: 0 0.25em; line-height: 1; border-radius: 0.35em;\">\n",
       "    MARTINI\n",
       "    <span style=\"font-size: 0.8em; font-weight: bold; line-height: 1; border-radius: 0.35em; vertical-align: middle; margin-left: 0.5rem\">FFM</span>\n",
       "</mark>\n",
       " to improve its performance. We showed that the corrections to pseudobond angles between glycerol and the lipid tails and around the oleoyl double bond particle (the angle-corrected model ) slightly improves the agreement of \n",
       "<mark class=\"entity\" style=\"background: #cdb4db; padding: 0.45em 0.6em; margin: 0 0.25em; line-height: 1; border-radius: 0.35em;\">\n",
       "    MARTINI\n",
       "    <span style=\"font-size: 0.8em; font-weight: bold; line-height: 1; border-radius: 0.35em; vertical-align: middle; margin-left: 0.5rem\">FFM</span>\n",
       "</mark>\n",
       "\n",
       "<mark class=\"entity\" style=\"background: #cdb4db; padding: 0.45em 0.6em; margin: 0 0.25em; line-height: 1; border-radius: 0.35em;\">\n",
       "    MARTINI\n",
       "    <span style=\"font-size: 0.8em; font-weight: bold; line-height: 1; border-radius: 0.35em; vertical-align: middle; margin-left: 0.5rem\">FFM</span>\n",
       "</mark>\n",
       "\n",
       "<mark class=\"entity\" style=\"background: #cdb4db; padding: 0.45em 0.6em; margin: 0 0.25em; line-height: 1; border-radius: 0.35em;\">\n",
       "    MARTINI\n",
       "    <span style=\"font-size: 0.8em; font-weight: bold; line-height: 1; border-radius: 0.35em; vertical-align: middle; margin-left: 0.5rem\">FFM</span>\n",
       "</mark>\n",
       " with experimentally measured thermal, elastic, and dynamic properties of \n",
       "<mark class=\"entity\" style=\"background: #bae1ff; padding: 0.45em 0.6em; margin: 0 0.25em; line-height: 1; border-radius: 0.35em;\">\n",
       "    POPC\n",
       "    <span style=\"font-size: 0.8em; font-weight: bold; line-height: 1; border-radius: 0.35em; vertical-align: middle; margin-left: 0.5rem\">MOL</span>\n",
       "</mark>\n",
       " membranes. The angle-corrected model improves prediction of the thickening and ordering effects up to 40% \n",
       "<mark class=\"entity\" style=\"background: #bae1ff; padding: 0.45em 0.6em; margin: 0 0.25em; line-height: 1; border-radius: 0.35em;\">\n",
       "    cholesterol\n",
       "    <span style=\"font-size: 0.8em; font-weight: bold; line-height: 1; border-radius: 0.35em; vertical-align: middle; margin-left: 0.5rem\">MOL</span>\n",
       "</mark>\n",
       " but overestimates these effects at higher \n",
       "<mark class=\"entity\" style=\"background: #bae1ff; padding: 0.45em 0.6em; margin: 0 0.25em; line-height: 1; border-radius: 0.35em;\">\n",
       "    cholesterol\n",
       "    <span style=\"font-size: 0.8em; font-weight: bold; line-height: 1; border-radius: 0.35em; vertical-align: middle; margin-left: 0.5rem\">MOL</span>\n",
       "</mark>\n",
       " concentration. In accordance with prior work that showed the \n",
       "<mark class=\"entity\" style=\"background: #bae1ff; padding: 0.45em 0.6em; margin: 0 0.25em; line-height: 1; border-radius: 0.35em;\">\n",
       "    cholesterol\n",
       "    <span style=\"font-size: 0.8em; font-weight: bold; line-height: 1; border-radius: 0.35em; vertical-align: middle; margin-left: 0.5rem\">MOL</span>\n",
       "</mark>\n",
       " rough face methyl groups are important for limiting \n",
       "<mark class=\"entity\" style=\"background: #bae1ff; padding: 0.45em 0.6em; margin: 0 0.25em; line-height: 1; border-radius: 0.35em;\">\n",
       "    cholesterol\n",
       "    <span style=\"font-size: 0.8em; font-weight: bold; line-height: 1; border-radius: 0.35em; vertical-align: middle; margin-left: 0.5rem\">MOL</span>\n",
       "</mark>\n",
       " self-association, we revised the coarse-grained representation of these methyl groups to better match \n",
       "<mark class=\"entity\" style=\"background: #bae1ff; padding: 0.45em 0.6em; margin: 0 0.25em; line-height: 1; border-radius: 0.35em;\">\n",
       "    cholesterol\n",
       "    <span style=\"font-size: 0.8em; font-weight: bold; line-height: 1; border-radius: 0.35em; vertical-align: middle; margin-left: 0.5rem\">MOL</span>\n",
       "</mark>\n",
       "-\n",
       "<mark class=\"entity\" style=\"background: #bae1ff; padding: 0.45em 0.6em; margin: 0 0.25em; line-height: 1; border-radius: 0.35em;\">\n",
       "    cholesterol\n",
       "    <span style=\"font-size: 0.8em; font-weight: bold; line-height: 1; border-radius: 0.35em; vertical-align: middle; margin-left: 0.5rem\">MOL</span>\n",
       "</mark>\n",
       " radial distribution functions from atomistic simulations. In addition, by using a finer-grained representation of the branched \n",
       "<mark class=\"entity\" style=\"background: #bae1ff; padding: 0.45em 0.6em; margin: 0 0.25em; line-height: 1; border-radius: 0.35em;\">\n",
       "    cholesterol\n",
       "    <span style=\"font-size: 0.8em; font-weight: bold; line-height: 1; border-radius: 0.35em; vertical-align: middle; margin-left: 0.5rem\">MOL</span>\n",
       "</mark>\n",
       " tail than \n",
       "<mark class=\"entity\" style=\"background: #cdb4db; padding: 0.45em 0.6em; margin: 0 0.25em; line-height: 1; border-radius: 0.35em;\">\n",
       "    MARTINI\n",
       "    <span style=\"font-size: 0.8em; font-weight: bold; line-height: 1; border-radius: 0.35em; vertical-align: middle; margin-left: 0.5rem\">FFM</span>\n",
       "</mark>\n",
       "\n",
       "<mark class=\"entity\" style=\"background: #cdb4db; padding: 0.45em 0.6em; margin: 0 0.25em; line-height: 1; border-radius: 0.35em;\">\n",
       "    MARTINI\n",
       "    <span style=\"font-size: 0.8em; font-weight: bold; line-height: 1; border-radius: 0.35em; vertical-align: middle; margin-left: 0.5rem\">FFM</span>\n",
       "</mark>\n",
       "\n",
       "<mark class=\"entity\" style=\"background: #cdb4db; padding: 0.45em 0.6em; margin: 0 0.25em; line-height: 1; border-radius: 0.35em;\">\n",
       "    MARTINI\n",
       "    <span style=\"font-size: 0.8em; font-weight: bold; line-height: 1; border-radius: 0.35em; vertical-align: middle; margin-left: 0.5rem\">FFM</span>\n",
       "</mark>\n",
       ", we improved predictions of lipid tail order and bilayer thickness across a wide range of concentrations. Finally, transferability testing shows that a model incorporating our revised parameters into \n",
       "<mark class=\"entity\" style=\"background: #bae1ff; padding: 0.45em 0.6em; margin: 0 0.25em; line-height: 1; border-radius: 0.35em;\">\n",
       "    DOPC\n",
       "    <span style=\"font-size: 0.8em; font-weight: bold; line-height: 1; border-radius: 0.35em; vertical-align: middle; margin-left: 0.5rem\">MOL</span>\n",
       "</mark>\n",
       " outperforms other CG models in a \n",
       "<mark class=\"entity\" style=\"background: #bae1ff; padding: 0.45em 0.6em; margin: 0 0.25em; line-height: 1; border-radius: 0.35em;\">\n",
       "    DOPC\n",
       "    <span style=\"font-size: 0.8em; font-weight: bold; line-height: 1; border-radius: 0.35em; vertical-align: middle; margin-left: 0.5rem\">MOL</span>\n",
       "</mark>\n",
       "/\n",
       "<mark class=\"entity\" style=\"background: #bae1ff; padding: 0.45em 0.6em; margin: 0 0.25em; line-height: 1; border-radius: 0.35em;\">\n",
       "    cholesterol\n",
       "    <span style=\"font-size: 0.8em; font-weight: bold; line-height: 1; border-radius: 0.35em; vertical-align: middle; margin-left: 0.5rem\">MOL</span>\n",
       "</mark>\n",
       " simulation series, which further argues for its efficacy and generalizability. These results argue for the importance of systematic optimization for coarse-graining biologically important molecules like \n",
       "<mark class=\"entity\" style=\"background: #bae1ff; padding: 0.45em 0.6em; margin: 0 0.25em; line-height: 1; border-radius: 0.35em;\">\n",
       "    cholesterol\n",
       "    <span style=\"font-size: 0.8em; font-weight: bold; line-height: 1; border-radius: 0.35em; vertical-align: middle; margin-left: 0.5rem\">MOL</span>\n",
       "</mark>\n",
       " with complicated molecular structure.<br></div></span>"
      ],
      "text/plain": [
       "<IPython.core.display.HTML object>"
      ]
     },
     "metadata": {},
     "output_type": "display_data"
    }
   ],
   "source": [
    "print(\"=\" * 80)\n",
    "print(\"🧐 VISUALIZATION OF EXTRACTED ENTITIES\")\n",
    "print(\"=\" * 80)\n",
    "# Visualize entities using displacy\n",
    "visualize_entities(text_to_annotate, entities_validated_list[0])"
   ]
  },
  {
   "cell_type": "markdown",
   "id": "d2ccaa01",
   "metadata": {},
   "source": [
    "## II.3 Testing with OpenAI models"
   ]
  },
  {
   "cell_type": "code",
   "execution_count": 10,
   "id": "ccbe5c95",
   "metadata": {},
   "outputs": [
    {
     "name": "stderr",
     "output_type": "stream",
     "text": [
      "Running annotations: 100%|██████████| 100/100 [29:50<00:00, 17.91s/it]"
     ]
    },
    {
     "name": "stdout",
     "output_type": "stream",
     "text": [
      "\n",
      "================================================================================\n",
      "📝 Input text:\n",
      "Improved Coarse-Grained Modeling of Cholesterol-Containing Lipid Bilayers\n",
      "Cholesterol trafficking, which is an essential function in mammalian cells, is intimately connected to molecular-scale interactions through cholesterol modulation of membrane structure and dynamics and interaction with membrane receptors. Since these effects of cholesterol occur on micro- to millisecond time scales, it is essential to develop accurate coarse-grained simulation models that can reach these time scales. Cholesterol has been shown experimentally to thicken the membrane and increase phospholipid tail order between 0 and 40% cholesterol, above which these effects plateau or slightly decrease. Here, we showed that the published MARTINI coarse-grained force-field for phospholipid (POPC) and cholesterol fails to capture these effects. Using reference atomistic simulations, we systematically modified POPC and cholesterol bonded parameters in MARTINI to improve its performance. We showed that the corrections to pseudobond angles between glycerol and the lipid tails and around the oleoyl double bond particle (the angle-corrected model ) slightly improves the agreement of MARTINI with experimentally measured thermal, elastic, and dynamic properties of POPC membranes. The angle-corrected model improves prediction of the thickening and ordering effects up to 40% cholesterol but overestimates these effects at higher cholesterol concentration. In accordance with prior work that showed the cholesterol rough face methyl groups are important for limiting cholesterol self-association, we revised the coarse-grained representation of these methyl groups to better match cholesterol-cholesterol radial distribution functions from atomistic simulations. In addition, by using a finer-grained representation of the branched cholesterol tail than MARTINI, we improved predictions of lipid tail order and bilayer thickness across a wide range of concentrations. Finally, transferability testing shows that a model incorporating our revised parameters into DOPC outperforms other CG models in a DOPC/cholesterol simulation series, which further argues for its efficacy and generalizability. These results argue for the importance of systematic optimization for coarse-graining biologically important molecules like cholesterol with complicated molecular structure.\n",
      "\n",
      "\n",
      "📊 Summary after 100 runs with o3-mini-2025-01-31:\n",
      "✔ Valid responses:   100\n",
      "❌ Invalid responses: 0\n"
     ]
    },
    {
     "name": "stderr",
     "output_type": "stream",
     "text": [
      "\n"
     ]
    }
   ],
   "source": [
    "stat_num_iterations = 100\n",
    "valid_count = 0\n",
    "invalid_count = 0\n",
    "\n",
    "for _ in tqdm(range(stat_num_iterations), desc=\"Running annotations\"):\n",
    "    response = annotate(text_to_annotate, MODEL_OPENAI, client_openai, validation=False)\n",
    "    if check_json_validity(response):\n",
    "        valid_count += 1\n",
    "    else:\n",
    "        invalid_count += 1\n",
    "\n",
    "print(\"\\n\" + \"=\"*80)\n",
    "print(f\"📝 Input text:\\n{text_to_annotate}\\n\")\n",
    "print(f\"📊 Summary after {stat_num_iterations} runs with {MODEL_OPENAI}:\")\n",
    "print(f\"✔ Valid responses:   {valid_count}\")\n",
    "print(f\"❌ Invalid responses: {invalid_count}\")"
   ]
  },
  {
   "cell_type": "code",
   "execution_count": 12,
   "id": "c3d4b850",
   "metadata": {},
   "outputs": [
    {
     "name": "stderr",
     "output_type": "stream",
     "text": [
      "Running annotations: 100%|██████████| 100/100 [35:41<00:00, 21.42s/it]"
     ]
    },
    {
     "name": "stdout",
     "output_type": "stream",
     "text": [
      "\n",
      "================================================================================\n",
      "📝 Input text:\n",
      "Improved Coarse-Grained Modeling of Cholesterol-Containing Lipid Bilayers\n",
      "Cholesterol trafficking, which is an essential function in mammalian cells, is intimately connected to molecular-scale interactions through cholesterol modulation of membrane structure and dynamics and interaction with membrane receptors. Since these effects of cholesterol occur on micro- to millisecond time scales, it is essential to develop accurate coarse-grained simulation models that can reach these time scales. Cholesterol has been shown experimentally to thicken the membrane and increase phospholipid tail order between 0 and 40% cholesterol, above which these effects plateau or slightly decrease. Here, we showed that the published MARTINI coarse-grained force-field for phospholipid (POPC) and cholesterol fails to capture these effects. Using reference atomistic simulations, we systematically modified POPC and cholesterol bonded parameters in MARTINI to improve its performance. We showed that the corrections to pseudobond angles between glycerol and the lipid tails and around the oleoyl double bond particle (the angle-corrected model ) slightly improves the agreement of MARTINI with experimentally measured thermal, elastic, and dynamic properties of POPC membranes. The angle-corrected model improves prediction of the thickening and ordering effects up to 40% cholesterol but overestimates these effects at higher cholesterol concentration. In accordance with prior work that showed the cholesterol rough face methyl groups are important for limiting cholesterol self-association, we revised the coarse-grained representation of these methyl groups to better match cholesterol-cholesterol radial distribution functions from atomistic simulations. In addition, by using a finer-grained representation of the branched cholesterol tail than MARTINI, we improved predictions of lipid tail order and bilayer thickness across a wide range of concentrations. Finally, transferability testing shows that a model incorporating our revised parameters into DOPC outperforms other CG models in a DOPC/cholesterol simulation series, which further argues for its efficacy and generalizability. These results argue for the importance of systematic optimization for coarse-graining biologically important molecules like cholesterol with complicated molecular structure.\n",
      "\n",
      "\n",
      "📊 Summary after 100 runs with o3-mini-2025-01-31:\n",
      "✔ Valid responses:   100\n",
      "❌ Invalid responses: 0\n"
     ]
    },
    {
     "name": "stderr",
     "output_type": "stream",
     "text": [
      "\n"
     ]
    }
   ],
   "source": [
    "valid_count = 0\n",
    "invalid_count = 0\n",
    "\n",
    "for _ in tqdm(range(stat_num_iterations), desc=\"Running annotations\"):\n",
    "    response = annotate(text_to_annotate, MODEL_OPENAI, client_openai, validation=True)\n",
    "    if check_json_validity(response):\n",
    "        valid_count += 1\n",
    "    else:\n",
    "        invalid_count += 1\n",
    "\n",
    "print(\"\\n\" + \"=\"*80)\n",
    "print(f\"📝 Input text:\\n{text_to_annotate}\\n\")\n",
    "print(f\"📊 Summary after {stat_num_iterations} runs with {MODEL_OPENAI}:\")\n",
    "print(f\"✔ Valid responses:   {valid_count}\")\n",
    "print(f\"❌ Invalid responses: {invalid_count}\")"
   ]
  },
  {
   "cell_type": "markdown",
   "id": "3c07a81f",
   "metadata": {},
   "source": [
    "➡️ We can see that with or without the validation schema with an openAI model, 100% of the responses are corrects. But let's try more iterations :"
   ]
  },
  {
   "cell_type": "code",
   "execution_count": 15,
   "id": "4d1bd4e2",
   "metadata": {},
   "outputs": [
    {
     "name": "stderr",
     "output_type": "stream",
     "text": [
      "Running annotations: 100%|██████████| 1000/1000 [41:14<00:00,  2.47s/it] "
     ]
    },
    {
     "name": "stdout",
     "output_type": "stream",
     "text": [
      "\n",
      "================================================================================\n",
      "📝 Input text:\n",
      "Improved Coarse-Grained Modeling of Cholesterol-Containing Lipid Bilayers\n",
      "Cholesterol trafficking, which is an essential function in mammalian cells, is intimately connected to molecular-scale interactions through cholesterol modulation of membrane structure and dynamics and interaction with membrane receptors. Since these effects of cholesterol occur on micro- to millisecond time scales, it is essential to develop accurate coarse-grained simulation models that can reach these time scales. Cholesterol has been shown experimentally to thicken the membrane and increase phospholipid tail order between 0 and 40% cholesterol, above which these effects plateau or slightly decrease. Here, we showed that the published MARTINI coarse-grained force-field for phospholipid (POPC) and cholesterol fails to capture these effects. Using reference atomistic simulations, we systematically modified POPC and cholesterol bonded parameters in MARTINI to improve its performance. We showed that the corrections to pseudobond angles between glycerol and the lipid tails and around the oleoyl double bond particle (the angle-corrected model ) slightly improves the agreement of MARTINI with experimentally measured thermal, elastic, and dynamic properties of POPC membranes. The angle-corrected model improves prediction of the thickening and ordering effects up to 40% cholesterol but overestimates these effects at higher cholesterol concentration. In accordance with prior work that showed the cholesterol rough face methyl groups are important for limiting cholesterol self-association, we revised the coarse-grained representation of these methyl groups to better match cholesterol-cholesterol radial distribution functions from atomistic simulations. In addition, by using a finer-grained representation of the branched cholesterol tail than MARTINI, we improved predictions of lipid tail order and bilayer thickness across a wide range of concentrations. Finally, transferability testing shows that a model incorporating our revised parameters into DOPC outperforms other CG models in a DOPC/cholesterol simulation series, which further argues for its efficacy and generalizability. These results argue for the importance of systematic optimization for coarse-graining biologically important molecules like cholesterol with complicated molecular structure.\n",
      "\n",
      "\n",
      "📊 Summary after 1000 runs with gpt-4o-mini-2024-07-18:\n",
      "✔ Valid responses:   995\n",
      "❌ Invalid responses: 5\n"
     ]
    },
    {
     "name": "stderr",
     "output_type": "stream",
     "text": [
      "\n"
     ]
    }
   ],
   "source": [
    "stat_num_iterations = 1000\n",
    "valid_count = 0\n",
    "invalid_count = 0\n",
    "\n",
    "for _ in tqdm(range(stat_num_iterations), desc=\"Running annotations\"):\n",
    "    response = annotate(text_to_annotate, MODEL_OPENAI, client_openai, validation=False)\n",
    "    if check_json_validity(response):\n",
    "        valid_count += 1\n",
    "    else:\n",
    "        invalid_count += 1\n",
    "\n",
    "print(\"\\n\" + \"=\"*80)\n",
    "print(f\"📝 Input text:\\n{text_to_annotate}\\n\")\n",
    "print(f\"📊 Summary after {stat_num_iterations} runs with {MODEL_OPENAI}:\")\n",
    "print(f\"✔ Valid responses:   {valid_count}\")\n",
    "print(f\"❌ Invalid responses: {invalid_count}\")"
   ]
  },
  {
   "cell_type": "markdown",
   "id": "7d26fbd3",
   "metadata": {},
   "source": [
    "➡️ We can see that the percent decrease to 99.5%..."
   ]
  },
  {
   "cell_type": "markdown",
   "id": "15e603b6",
   "metadata": {},
   "source": [
    "# Conclusion 💡\n",
    "\n",
    "The conclusion of the tests is that validation helps ensure the output follows the expected schema. \n",
    "\n",
    "But we notice that with OpenAI models, the JSON is often already well-structured. In contrast, smaller models like llama-3.1-8b-instant tend to produce less consistent outputs. The strong performance of larger models is also partly due to effective prompt engineering techniques, such as few-shot examples.\n",
    "\n",
    "\n",
    "In short, combining good prompt design with schema validation with Pydantic and Instructor provide the structure and validation needed to ensure models generate consistent and trustworthy outputs 🌟"
   ]
  }
 ],
 "metadata": {
  "kernelspec": {
   "display_name": "mdner-llm",
   "language": "python",
   "name": "python3"
  },
  "language_info": {
   "codemirror_mode": {
    "name": "ipython",
    "version": 3
   },
   "file_extension": ".py",
   "mimetype": "text/x-python",
   "name": "python",
   "nbconvert_exporter": "python",
   "pygments_lexer": "ipython3",
   "version": "3.13.7"
  }
 },
 "nbformat": 4,
 "nbformat_minor": 5
}
